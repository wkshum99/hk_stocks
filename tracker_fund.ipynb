{
 "cells": [
  {
   "cell_type": "code",
   "execution_count": 1,
   "metadata": {},
   "outputs": [],
   "source": [
    "#from __future__ import division\n",
    "#import sys\n",
    "#!{sys.executable} -m pip install YahooFinance"
   ]
  },
  {
   "cell_type": "code",
   "execution_count": 2,
   "metadata": {},
   "outputs": [],
   "source": [
    "from yahoofinancials import YahooFinancials\n",
    "import pandas as pd"
   ]
  },
  {
   "cell_type": "code",
   "execution_count": 3,
   "metadata": {},
   "outputs": [],
   "source": [
    "df = pd.read_csv(\"https://www.trahk.com.hk/eng/Fund/DownloadDailyHoldingFiles\", skiprows=4, skipfooter=4, skipinitialspace=True, engine='python')"
   ]
  },
  {
   "cell_type": "code",
   "execution_count": 4,
   "metadata": {},
   "outputs": [
    {
     "data": {
      "text/html": [
       "<div>\n",
       "<style scoped>\n",
       "    .dataframe tbody tr th:only-of-type {\n",
       "        vertical-align: middle;\n",
       "    }\n",
       "\n",
       "    .dataframe tbody tr th {\n",
       "        vertical-align: top;\n",
       "    }\n",
       "\n",
       "    .dataframe thead th {\n",
       "        text-align: right;\n",
       "    }\n",
       "</style>\n",
       "<table border=\"1\" class=\"dataframe\">\n",
       "  <thead>\n",
       "    <tr style=\"text-align: right;\">\n",
       "      <th></th>\n",
       "      <th>Ticker</th>\n",
       "      <th>Name</th>\n",
       "      <th>Sector</th>\n",
       "      <th>Weight(%)</th>\n",
       "    </tr>\n",
       "  </thead>\n",
       "  <tbody>\n",
       "    <tr>\n",
       "      <th>0</th>\n",
       "      <td>700-HK</td>\n",
       "      <td>Tencent Holdings (P Chip)</td>\n",
       "      <td>Information Technology</td>\n",
       "      <td>10.82380</td>\n",
       "    </tr>\n",
       "    <tr>\n",
       "      <th>1</th>\n",
       "      <td>1299-HK</td>\n",
       "      <td>AIA Group Ltd.</td>\n",
       "      <td>Financials</td>\n",
       "      <td>10.42140</td>\n",
       "    </tr>\n",
       "    <tr>\n",
       "      <th>2</th>\n",
       "      <td>5-HK</td>\n",
       "      <td>HSBC Holdings</td>\n",
       "      <td>Financials</td>\n",
       "      <td>9.71439</td>\n",
       "    </tr>\n",
       "    <tr>\n",
       "      <th>3</th>\n",
       "      <td>939-HK</td>\n",
       "      <td>China Construction Bank (H)</td>\n",
       "      <td>Financials</td>\n",
       "      <td>7.18409</td>\n",
       "    </tr>\n",
       "    <tr>\n",
       "      <th>4</th>\n",
       "      <td>2318-HK</td>\n",
       "      <td>Ping An Insurance (H)</td>\n",
       "      <td>Financials</td>\n",
       "      <td>5.72330</td>\n",
       "    </tr>\n",
       "  </tbody>\n",
       "</table>\n",
       "</div>"
      ],
      "text/plain": [
       "    Ticker                         Name                  Sector  Weight(%)\n",
       "0   700-HK    Tencent Holdings (P Chip)  Information Technology   10.82380\n",
       "1  1299-HK               AIA Group Ltd.              Financials   10.42140\n",
       "2     5-HK                HSBC Holdings              Financials    9.71439\n",
       "3   939-HK  China Construction Bank (H)              Financials    7.18409\n",
       "4  2318-HK        Ping An Insurance (H)              Financials    5.72330"
      ]
     },
     "execution_count": 4,
     "metadata": {},
     "output_type": "execute_result"
    }
   ],
   "source": [
    "df.head()"
   ]
  },
  {
   "cell_type": "code",
   "execution_count": 6,
   "metadata": {},
   "outputs": [],
   "source": [
    "#df.iloc[0][\"Weight(%)]"
   ]
  },
  {
   "cell_type": "code",
   "execution_count": 7,
   "metadata": {},
   "outputs": [],
   "source": [
    "df[\"Ticker\"] = df[\"Ticker\"].apply(lambda x:(str(x).replace(\"-HK\",\"\")))"
   ]
  },
  {
   "cell_type": "code",
   "execution_count": 8,
   "metadata": {},
   "outputs": [
    {
     "data": {
      "text/html": [
       "<div>\n",
       "<style scoped>\n",
       "    .dataframe tbody tr th:only-of-type {\n",
       "        vertical-align: middle;\n",
       "    }\n",
       "\n",
       "    .dataframe tbody tr th {\n",
       "        vertical-align: top;\n",
       "    }\n",
       "\n",
       "    .dataframe thead th {\n",
       "        text-align: right;\n",
       "    }\n",
       "</style>\n",
       "<table border=\"1\" class=\"dataframe\">\n",
       "  <thead>\n",
       "    <tr style=\"text-align: right;\">\n",
       "      <th></th>\n",
       "      <th>Ticker</th>\n",
       "      <th>Name</th>\n",
       "      <th>Sector</th>\n",
       "      <th>Weight(%)</th>\n",
       "    </tr>\n",
       "  </thead>\n",
       "  <tbody>\n",
       "    <tr>\n",
       "      <th>0</th>\n",
       "      <td>700</td>\n",
       "      <td>Tencent Holdings (P Chip)</td>\n",
       "      <td>Information Technology</td>\n",
       "      <td>10.82380</td>\n",
       "    </tr>\n",
       "    <tr>\n",
       "      <th>1</th>\n",
       "      <td>1299</td>\n",
       "      <td>AIA Group Ltd.</td>\n",
       "      <td>Financials</td>\n",
       "      <td>10.42140</td>\n",
       "    </tr>\n",
       "    <tr>\n",
       "      <th>2</th>\n",
       "      <td>5</td>\n",
       "      <td>HSBC Holdings</td>\n",
       "      <td>Financials</td>\n",
       "      <td>9.71439</td>\n",
       "    </tr>\n",
       "    <tr>\n",
       "      <th>3</th>\n",
       "      <td>939</td>\n",
       "      <td>China Construction Bank (H)</td>\n",
       "      <td>Financials</td>\n",
       "      <td>7.18409</td>\n",
       "    </tr>\n",
       "    <tr>\n",
       "      <th>4</th>\n",
       "      <td>2318</td>\n",
       "      <td>Ping An Insurance (H)</td>\n",
       "      <td>Financials</td>\n",
       "      <td>5.72330</td>\n",
       "    </tr>\n",
       "  </tbody>\n",
       "</table>\n",
       "</div>"
      ],
      "text/plain": [
       "  Ticker                         Name                  Sector  Weight(%)\n",
       "0    700    Tencent Holdings (P Chip)  Information Technology   10.82380\n",
       "1   1299               AIA Group Ltd.              Financials   10.42140\n",
       "2      5                HSBC Holdings              Financials    9.71439\n",
       "3    939  China Construction Bank (H)              Financials    7.18409\n",
       "4   2318        Ping An Insurance (H)              Financials    5.72330"
      ]
     },
     "execution_count": 8,
     "metadata": {},
     "output_type": "execute_result"
    }
   ],
   "source": [
    "df.head()"
   ]
  },
  {
   "cell_type": "code",
   "execution_count": 9,
   "metadata": {},
   "outputs": [],
   "source": [
    "def check_ticker_pe(ticker):\n",
    "    yahoo_financials = YahooFinancials(ticker.zfill(4) + \".HK\")\n",
    "    return yahoo_financials.get_pe_ratio()"
   ]
  },
  {
   "cell_type": "code",
   "execution_count": 10,
   "metadata": {},
   "outputs": [],
   "source": [
    "def calc_eps(x):\n",
    "    return 1/x * 100"
   ]
  },
  {
   "cell_type": "code",
   "execution_count": 13,
   "metadata": {},
   "outputs": [],
   "source": [
    "df[\"PE\"] = df[\"Ticker\"].apply(check_ticker_pe)"
   ]
  },
  {
   "cell_type": "code",
   "execution_count": 14,
   "metadata": {},
   "outputs": [],
   "source": [
    "df[\"EPS\"] = df[\"PE\"].apply(calc_eps)\n",
    "df[\"Allocation\"] = df[\"Weight(%)\"] * df[\"EPS\"] / 100"
   ]
  },
  {
   "cell_type": "code",
   "execution_count": 15,
   "metadata": {},
   "outputs": [
    {
     "data": {
      "text/html": [
       "<div>\n",
       "<style scoped>\n",
       "    .dataframe tbody tr th:only-of-type {\n",
       "        vertical-align: middle;\n",
       "    }\n",
       "\n",
       "    .dataframe tbody tr th {\n",
       "        vertical-align: top;\n",
       "    }\n",
       "\n",
       "    .dataframe thead th {\n",
       "        text-align: right;\n",
       "    }\n",
       "</style>\n",
       "<table border=\"1\" class=\"dataframe\">\n",
       "  <thead>\n",
       "    <tr style=\"text-align: right;\">\n",
       "      <th></th>\n",
       "      <th>Ticker</th>\n",
       "      <th>Name</th>\n",
       "      <th>Sector</th>\n",
       "      <th>Weight(%)</th>\n",
       "      <th>PE</th>\n",
       "      <th>EPS</th>\n",
       "      <th>Allocation</th>\n",
       "    </tr>\n",
       "  </thead>\n",
       "  <tbody>\n",
       "    <tr>\n",
       "      <th>0</th>\n",
       "      <td>700</td>\n",
       "      <td>Tencent Holdings (P Chip)</td>\n",
       "      <td>Information Technology</td>\n",
       "      <td>10.82380</td>\n",
       "      <td>35.885230</td>\n",
       "      <td>2.786662</td>\n",
       "      <td>0.301623</td>\n",
       "    </tr>\n",
       "    <tr>\n",
       "      <th>1</th>\n",
       "      <td>1299</td>\n",
       "      <td>AIA Group Ltd.</td>\n",
       "      <td>Financials</td>\n",
       "      <td>10.42140</td>\n",
       "      <td>37.116318</td>\n",
       "      <td>2.694233</td>\n",
       "      <td>0.280777</td>\n",
       "    </tr>\n",
       "    <tr>\n",
       "      <th>2</th>\n",
       "      <td>5</td>\n",
       "      <td>HSBC Holdings</td>\n",
       "      <td>Financials</td>\n",
       "      <td>9.71439</td>\n",
       "      <td>12.359637</td>\n",
       "      <td>8.090853</td>\n",
       "      <td>0.785977</td>\n",
       "    </tr>\n",
       "    <tr>\n",
       "      <th>3</th>\n",
       "      <td>939</td>\n",
       "      <td>China Construction Bank (H)</td>\n",
       "      <td>Financials</td>\n",
       "      <td>7.18409</td>\n",
       "      <td>5.076410</td>\n",
       "      <td>19.698960</td>\n",
       "      <td>1.415191</td>\n",
       "    </tr>\n",
       "    <tr>\n",
       "      <th>4</th>\n",
       "      <td>2318</td>\n",
       "      <td>Ping An Insurance (H)</td>\n",
       "      <td>Financials</td>\n",
       "      <td>5.72330</td>\n",
       "      <td>12.984413</td>\n",
       "      <td>7.701542</td>\n",
       "      <td>0.440782</td>\n",
       "    </tr>\n",
       "  </tbody>\n",
       "</table>\n",
       "</div>"
      ],
      "text/plain": [
       "  Ticker                         Name                  Sector  Weight(%)  \\\n",
       "0    700    Tencent Holdings (P Chip)  Information Technology   10.82380   \n",
       "1   1299               AIA Group Ltd.              Financials   10.42140   \n",
       "2      5                HSBC Holdings              Financials    9.71439   \n",
       "3    939  China Construction Bank (H)              Financials    7.18409   \n",
       "4   2318        Ping An Insurance (H)              Financials    5.72330   \n",
       "\n",
       "          PE        EPS  Allocation  \n",
       "0  35.885230   2.786662    0.301623  \n",
       "1  37.116318   2.694233    0.280777  \n",
       "2  12.359637   8.090853    0.785977  \n",
       "3   5.076410  19.698960    1.415191  \n",
       "4  12.984413   7.701542    0.440782  "
      ]
     },
     "execution_count": 15,
     "metadata": {},
     "output_type": "execute_result"
    }
   ],
   "source": [
    "df.head()"
   ]
  },
  {
   "cell_type": "code",
   "execution_count": 16,
   "metadata": {},
   "outputs": [
    {
     "data": {
      "text/plain": [
       "9.18489786248125"
      ]
     },
     "execution_count": 16,
     "metadata": {},
     "output_type": "execute_result"
    }
   ],
   "source": [
    "df[\"Allocation\"].sum()"
   ]
  },
  {
   "cell_type": "code",
   "execution_count": null,
   "metadata": {},
   "outputs": [],
   "source": []
  }
 ],
 "metadata": {
  "kernelspec": {
   "display_name": "Python 3",
   "language": "python",
   "name": "python3"
  },
  "language_info": {
   "codemirror_mode": {
    "name": "ipython",
    "version": 3
   },
   "file_extension": ".py",
   "mimetype": "text/x-python",
   "name": "python",
   "nbconvert_exporter": "python",
   "pygments_lexer": "ipython3",
   "version": "3.7.3"
  }
 },
 "nbformat": 4,
 "nbformat_minor": 1
}
