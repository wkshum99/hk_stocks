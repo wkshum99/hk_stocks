{
 "cells": [
  {
   "cell_type": "code",
   "execution_count": 5,
   "metadata": {},
   "outputs": [],
   "source": [
    "#from __future__ import division\n",
    "#import sys\n",
    "#!{sys.executable} -m pip install YahooFinance"
   ]
  },
  {
   "cell_type": "code",
   "execution_count": 1,
   "metadata": {},
   "outputs": [],
   "source": [
    "from yahoofinancials import YahooFinancials\n",
    "import pandas as pd"
   ]
  },
  {
   "cell_type": "code",
   "execution_count": 19,
   "metadata": {},
   "outputs": [],
   "source": [
    "df = pd.read_csv(\"https://www.trahk.com.hk/eng/Fund/DownloadDailyHoldingFiles\", skiprows=4, skipfooter=4, skipinitialspace=True, engine='python')"
   ]
  },
  {
   "cell_type": "code",
   "execution_count": 20,
   "metadata": {},
   "outputs": [
    {
     "data": {
      "text/html": [
       "<div>\n",
       "<style scoped>\n",
       "    .dataframe tbody tr th:only-of-type {\n",
       "        vertical-align: middle;\n",
       "    }\n",
       "\n",
       "    .dataframe tbody tr th {\n",
       "        vertical-align: top;\n",
       "    }\n",
       "\n",
       "    .dataframe thead th {\n",
       "        text-align: right;\n",
       "    }\n",
       "</style>\n",
       "<table border=\"1\" class=\"dataframe\">\n",
       "  <thead>\n",
       "    <tr style=\"text-align: right;\">\n",
       "      <th></th>\n",
       "      <th>Ticker</th>\n",
       "      <th>Name</th>\n",
       "      <th>Sector</th>\n",
       "      <th>Weight(%)</th>\n",
       "    </tr>\n",
       "  </thead>\n",
       "  <tbody>\n",
       "    <tr>\n",
       "      <th>0</th>\n",
       "      <td>1299-HK</td>\n",
       "      <td>AIA Group Ltd.</td>\n",
       "      <td>Financials</td>\n",
       "      <td>10.68720</td>\n",
       "    </tr>\n",
       "    <tr>\n",
       "      <th>1</th>\n",
       "      <td>700-HK</td>\n",
       "      <td>Tencent Holdings (P Chip)</td>\n",
       "      <td>Information Technology</td>\n",
       "      <td>10.51230</td>\n",
       "    </tr>\n",
       "    <tr>\n",
       "      <th>2</th>\n",
       "      <td>5-HK</td>\n",
       "      <td>HSBC Holdings</td>\n",
       "      <td>Financials</td>\n",
       "      <td>9.60921</td>\n",
       "    </tr>\n",
       "    <tr>\n",
       "      <th>3</th>\n",
       "      <td>939-HK</td>\n",
       "      <td>China Construction Bank (H)</td>\n",
       "      <td>Financials</td>\n",
       "      <td>7.15834</td>\n",
       "    </tr>\n",
       "    <tr>\n",
       "      <th>4</th>\n",
       "      <td>2318-HK</td>\n",
       "      <td>Ping An Insurance (H)</td>\n",
       "      <td>Financials</td>\n",
       "      <td>5.67781</td>\n",
       "    </tr>\n",
       "  </tbody>\n",
       "</table>\n",
       "</div>"
      ],
      "text/plain": [
       "    Ticker                         Name                  Sector  Weight(%)\n",
       "0  1299-HK               AIA Group Ltd.              Financials   10.68720\n",
       "1   700-HK    Tencent Holdings (P Chip)  Information Technology   10.51230\n",
       "2     5-HK                HSBC Holdings              Financials    9.60921\n",
       "3   939-HK  China Construction Bank (H)              Financials    7.15834\n",
       "4  2318-HK        Ping An Insurance (H)              Financials    5.67781"
      ]
     },
     "execution_count": 20,
     "metadata": {},
     "output_type": "execute_result"
    }
   ],
   "source": [
    "df.head()"
   ]
  },
  {
   "cell_type": "code",
   "execution_count": 37,
   "metadata": {},
   "outputs": [
    {
     "data": {
      "text/plain": [
       "10.7839"
      ]
     },
     "execution_count": 37,
     "metadata": {},
     "output_type": "execute_result"
    }
   ],
   "source": [
    "df.iloc[0][\"Weight(%)]"
   ]
  },
  {
   "cell_type": "code",
   "execution_count": 35,
   "metadata": {},
   "outputs": [],
   "source": [
    "df[\"Ticker\"] = df[\"Ticker\"].apply(lambda x:(str(x).replace(\"-HK\",\"\")))"
   ]
  },
  {
   "cell_type": "code",
   "execution_count": 36,
   "metadata": {},
   "outputs": [
    {
     "data": {
      "text/html": [
       "<div>\n",
       "<style scoped>\n",
       "    .dataframe tbody tr th:only-of-type {\n",
       "        vertical-align: middle;\n",
       "    }\n",
       "\n",
       "    .dataframe tbody tr th {\n",
       "        vertical-align: top;\n",
       "    }\n",
       "\n",
       "    .dataframe thead th {\n",
       "        text-align: right;\n",
       "    }\n",
       "</style>\n",
       "<table border=\"1\" class=\"dataframe\">\n",
       "  <thead>\n",
       "    <tr style=\"text-align: right;\">\n",
       "      <th></th>\n",
       "      <th>Ticker</th>\n",
       "      <th>Name</th>\n",
       "      <th>Sector</th>\n",
       "      <th>Weight(%)</th>\n",
       "    </tr>\n",
       "  </thead>\n",
       "  <tbody>\n",
       "    <tr>\n",
       "      <th>0</th>\n",
       "      <td>1299</td>\n",
       "      <td>AIA Group Ltd.</td>\n",
       "      <td>Financials</td>\n",
       "      <td>10.68720</td>\n",
       "    </tr>\n",
       "    <tr>\n",
       "      <th>1</th>\n",
       "      <td>0700</td>\n",
       "      <td>Tencent Holdings (P Chip)</td>\n",
       "      <td>Information Technology</td>\n",
       "      <td>10.51230</td>\n",
       "    </tr>\n",
       "    <tr>\n",
       "      <th>2</th>\n",
       "      <td>0005</td>\n",
       "      <td>HSBC Holdings</td>\n",
       "      <td>Financials</td>\n",
       "      <td>9.60921</td>\n",
       "    </tr>\n",
       "    <tr>\n",
       "      <th>3</th>\n",
       "      <td>0939</td>\n",
       "      <td>China Construction Bank (H)</td>\n",
       "      <td>Financials</td>\n",
       "      <td>7.15834</td>\n",
       "    </tr>\n",
       "    <tr>\n",
       "      <th>4</th>\n",
       "      <td>2318</td>\n",
       "      <td>Ping An Insurance (H)</td>\n",
       "      <td>Financials</td>\n",
       "      <td>5.67781</td>\n",
       "    </tr>\n",
       "  </tbody>\n",
       "</table>\n",
       "</div>"
      ],
      "text/plain": [
       "  Ticker                         Name                  Sector  Weight(%)\n",
       "0   1299               AIA Group Ltd.              Financials   10.68720\n",
       "1   0700    Tencent Holdings (P Chip)  Information Technology   10.51230\n",
       "2   0005                HSBC Holdings              Financials    9.60921\n",
       "3   0939  China Construction Bank (H)              Financials    7.15834\n",
       "4   2318        Ping An Insurance (H)              Financials    5.67781"
      ]
     },
     "execution_count": 36,
     "metadata": {},
     "output_type": "execute_result"
    }
   ],
   "source": [
    "df.head()"
   ]
  },
  {
   "cell_type": "code",
   "execution_count": 32,
   "metadata": {},
   "outputs": [],
   "source": [
    "def check_ticker_pe(ticker):\n",
    "    yahoo_financials = YahooFinancials(ticker.zfill(4) + \".HK\")\n",
    "    return yahoo_financials.get_pe_ratio()"
   ]
  },
  {
   "cell_type": "code",
   "execution_count": 41,
   "metadata": {},
   "outputs": [],
   "source": [
    "def calc_eps(x):\n",
    "    return 1/x * 100"
   ]
  },
  {
   "cell_type": "code",
   "execution_count": 37,
   "metadata": {},
   "outputs": [],
   "source": [
    "df[\"PE\"] = df[\"Ticker\"].apply(check_price)"
   ]
  },
  {
   "cell_type": "code",
   "execution_count": 46,
   "metadata": {},
   "outputs": [],
   "source": [
    "df[\"EPS\"] = df[\"PE\"].apply(calc_eps)\n",
    "df[\"Allocation\"] = df[\"Weight(%)\"] * df[\"EPS\"] / 100"
   ]
  },
  {
   "cell_type": "code",
   "execution_count": 47,
   "metadata": {},
   "outputs": [
    {
     "data": {
      "text/html": [
       "<div>\n",
       "<style scoped>\n",
       "    .dataframe tbody tr th:only-of-type {\n",
       "        vertical-align: middle;\n",
       "    }\n",
       "\n",
       "    .dataframe tbody tr th {\n",
       "        vertical-align: top;\n",
       "    }\n",
       "\n",
       "    .dataframe thead th {\n",
       "        text-align: right;\n",
       "    }\n",
       "</style>\n",
       "<table border=\"1\" class=\"dataframe\">\n",
       "  <thead>\n",
       "    <tr style=\"text-align: right;\">\n",
       "      <th></th>\n",
       "      <th>Ticker</th>\n",
       "      <th>Name</th>\n",
       "      <th>Sector</th>\n",
       "      <th>Weight(%)</th>\n",
       "      <th>PE</th>\n",
       "      <th>EPS</th>\n",
       "      <th>Allocation</th>\n",
       "    </tr>\n",
       "  </thead>\n",
       "  <tbody>\n",
       "    <tr>\n",
       "      <th>0</th>\n",
       "      <td>1299</td>\n",
       "      <td>AIA Group Ltd.</td>\n",
       "      <td>Financials</td>\n",
       "      <td>10.68720</td>\n",
       "      <td>39.841130</td>\n",
       "      <td>2.509969</td>\n",
       "      <td>0.268245</td>\n",
       "    </tr>\n",
       "    <tr>\n",
       "      <th>1</th>\n",
       "      <td>0700</td>\n",
       "      <td>Tencent Holdings (P Chip)</td>\n",
       "      <td>Information Technology</td>\n",
       "      <td>10.51230</td>\n",
       "      <td>39.509575</td>\n",
       "      <td>2.531032</td>\n",
       "      <td>0.266070</td>\n",
       "    </tr>\n",
       "    <tr>\n",
       "      <th>2</th>\n",
       "      <td>0005</td>\n",
       "      <td>HSBC Holdings</td>\n",
       "      <td>Financials</td>\n",
       "      <td>9.60921</td>\n",
       "      <td>12.947227</td>\n",
       "      <td>7.723662</td>\n",
       "      <td>0.742183</td>\n",
       "    </tr>\n",
       "    <tr>\n",
       "      <th>3</th>\n",
       "      <td>0939</td>\n",
       "      <td>China Construction Bank (H)</td>\n",
       "      <td>Financials</td>\n",
       "      <td>7.15834</td>\n",
       "      <td>5.383805</td>\n",
       "      <td>18.574224</td>\n",
       "      <td>1.329606</td>\n",
       "    </tr>\n",
       "    <tr>\n",
       "      <th>4</th>\n",
       "      <td>2318</td>\n",
       "      <td>Ping An Insurance (H)</td>\n",
       "      <td>Financials</td>\n",
       "      <td>5.67781</td>\n",
       "      <td>14.005659</td>\n",
       "      <td>7.139971</td>\n",
       "      <td>0.405394</td>\n",
       "    </tr>\n",
       "  </tbody>\n",
       "</table>\n",
       "</div>"
      ],
      "text/plain": [
       "  Ticker                         Name                  Sector  Weight(%)  \\\n",
       "0   1299               AIA Group Ltd.              Financials   10.68720   \n",
       "1   0700    Tencent Holdings (P Chip)  Information Technology   10.51230   \n",
       "2   0005                HSBC Holdings              Financials    9.60921   \n",
       "3   0939  China Construction Bank (H)              Financials    7.15834   \n",
       "4   2318        Ping An Insurance (H)              Financials    5.67781   \n",
       "\n",
       "          PE        EPS  Allocation  \n",
       "0  39.841130   2.509969    0.268245  \n",
       "1  39.509575   2.531032    0.266070  \n",
       "2  12.947227   7.723662    0.742183  \n",
       "3   5.383805  18.574224    1.329606  \n",
       "4  14.005659   7.139971    0.405394  "
      ]
     },
     "execution_count": 47,
     "metadata": {},
     "output_type": "execute_result"
    }
   ],
   "source": [
    "df.head()"
   ]
  },
  {
   "cell_type": "code",
   "execution_count": 49,
   "metadata": {},
   "outputs": [
    {
     "data": {
      "text/plain": [
       "8.682058399358805"
      ]
     },
     "execution_count": 49,
     "metadata": {},
     "output_type": "execute_result"
    }
   ],
   "source": [
    "df[\"Allocation\"].sum()"
   ]
  },
  {
   "cell_type": "code",
   "execution_count": null,
   "metadata": {},
   "outputs": [],
   "source": []
  }
 ],
 "metadata": {
  "kernelspec": {
   "display_name": "Python 3",
   "language": "python",
   "name": "python3"
  },
  "language_info": {
   "codemirror_mode": {
    "name": "ipython",
    "version": 3
   },
   "file_extension": ".py",
   "mimetype": "text/x-python",
   "name": "python",
   "nbconvert_exporter": "python",
   "pygments_lexer": "ipython3",
   "version": "3.7.0"
  }
 },
 "nbformat": 4,
 "nbformat_minor": 1
}
